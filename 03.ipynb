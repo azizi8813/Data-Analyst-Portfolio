{
 "cells": [
  {
   "cell_type": "code",
   "execution_count": 17,
   "metadata": {},
   "outputs": [
    {
     "name": "stdout",
     "output_type": "stream",
     "text": [
      "Data read into a pandas dataframe!\n"
     ]
    },
    {
     "data": {
      "text/html": [
       "\n",
       "        <iframe\n",
       "            width=\"100%\"\n",
       "            height=\"650\"\n",
       "            src=\"http://127.0.0.1:8060/\"\n",
       "            frameborder=\"0\"\n",
       "            allowfullscreen\n",
       "            \n",
       "        ></iframe>\n",
       "        "
      ],
      "text/plain": [
       "<IPython.lib.display.IFrame at 0x2a9b40dfc20>"
      ]
     },
     "metadata": {},
     "output_type": "display_data"
    }
   ],
   "source": [
    "import pandas as pd\n",
    "import numpy as np\n",
    "import seaborn as sns\n",
    "import matplotlib.pyplot as plt\n",
    "import dash\n",
    "from dash import dcc,html\n",
    "from dash.dependencies import Input,Output\n",
    "import requests\n",
    "import io\n",
    "import plotly.express as px\n",
    "import plotly.graph_objects as go\n",
    "import datetime as dt\n",
    "from dash import no_update\n",
    "\n",
    "url=\"https://cf-courses-data.s3.us.cloud-object-storage.appdomain.cloud/IBMDeveloperSkillsNetwork-DV0101EN-SkillsNetwork/Data%20Files/Historical_Wildfires.csv\"\n",
    "response=requests.get(url)\n",
    "if response.status_code==200:\n",
    "    text=io.BytesIO(response.content)\n",
    "    df=pd.read_csv(text)\n",
    "    print(\"Data read into a pandas dataframe!\")\n",
    "else:\n",
    "    print(f\"Error downloading data: {response.status_code}\")\n",
    "\n",
    "df['Year']=pd.to_datetime(df['Date']).dt.year\n",
    "df['Month']=pd.to_datetime(df['Date']).dt.month_name()\n",
    "\n",
    "\n",
    "app=dash.Dash(__name__)\n",
    "app.layout=html.Div([\n",
    "                        html.H1('Australia Wildfire Dashboard',style={'font-size':40,'textAlign':'center','color':'red'}),\n",
    "                        html.Div(['Select Region',dcc.RadioItems(options=[\n",
    "                                                        {'label': 'New South Wales', 'value': 'NSW'},\n",
    "                                                        {'label': 'Northern Territory', 'value': 'NT'},\n",
    "                                                        {'label': 'Queensland', 'value': 'QL'},\n",
    "                                                        {'label': 'South Australia', 'value': 'SA'},\n",
    "                                                        {'label': 'Tasmania', 'value': 'TA'},\n",
    "                                                        {'label': 'Victoria', 'value': 'VI'},\n",
    "                                                        {'label': 'Western Australia', 'value': 'WA'}\n",
    "    ],value='NSW',id='radio-items',labelStyle={'display': 'inline-block', 'margin': '10px'},\n",
    "    inline=True,style={'font-size':10})],style={'font-size':20}),\n",
    "                        html.Div(['Select Year',dcc.Dropdown(options=[\n",
    "                                                                {'label': '2005', 'value': 2005},\n",
    "                                                                {'label': '2006', 'value': 2006},\n",
    "                                                                {'label': '2007', 'value': 2007},\n",
    "                                                                {'label': '2008', 'value': 2008},\n",
    "                                                                {'label': '2009', 'value': 2009},\n",
    "                                                                {'label': '2010', 'value': 2010},\n",
    "                                                                {'label': '2011', 'value': 2011},\n",
    "                                                                {'label': '2012', 'value': 2012}]\n",
    "                            ,value=2005,id='dropdown',clearable=False,searchable=False,placeholder='Select an option',style={'font-size':10})],style={'font-size':20}),\n",
    "                        html.Br(),\n",
    "                        html.Br(),\n",
    "                        html.Div([\n",
    "                            html.Div(dcc.Graph(id='pie_chart')),\n",
    "                            html.Div(dcc.Graph(id='bar_chart'))]\n",
    "                            ,style={'display':'flex'})\n",
    "                        ])\n",
    "\n",
    "\n",
    "@app.callback([\n",
    "                Output(component_id='pie_chart',component_property='figure'),\n",
    "                Output(component_id='bar_chart',component_property='figure')],\n",
    "                [   Input(component_id='radio-items',component_property='value'),\n",
    "                    Input(component_id='dropdown',component_property='value')]\n",
    "                    )\n",
    "\n",
    "\n",
    "def reg_year_display(input_region,input_year):  \n",
    "    #data\n",
    "   y_r_data = df[(df['Region'] == input_region)&(df['Year']==input_year)]\n",
    "   #y_r_data = region_data[region_data['Year']==input_year]\n",
    "    #Plot one - Monthly Average Estimated Fire Area   \n",
    "   est_data = y_r_data.groupby('Month')['Estimated_fire_area'].mean().reset_index()\n",
    "   fig1 = px.pie(est_data, values='Estimated_fire_area', names='Month', title=\"{} : Monthly Average Estimated Fire Area in year {}\".format(input_region,input_year))   \n",
    "     #Plot two - Monthly Average Count of Pixels for Presumed Vegetation Fires\n",
    "   veg_data = y_r_data.groupby('Month')['Count'].mean().reset_index()\n",
    "   fig2 = px.bar(veg_data, x='Month', y='Count', title='{} : Average Count of Pixels for Presumed Vegetation Fires in year {}'.format(input_region,input_year))    \n",
    "   return [fig1,\n",
    "            fig2 ]\n",
    "\n",
    "if __name__=='__main__':\n",
    "    app.run_server(port=8060)\n"
   ]
  },
  {
   "cell_type": "code",
   "execution_count": null,
   "metadata": {},
   "outputs": [],
   "source": []
  }
 ],
 "metadata": {
  "kernelspec": {
   "display_name": "Python 3",
   "language": "python",
   "name": "python3"
  },
  "language_info": {
   "codemirror_mode": {
    "name": "ipython",
    "version": 3
   },
   "file_extension": ".py",
   "mimetype": "text/x-python",
   "name": "python",
   "nbconvert_exporter": "python",
   "pygments_lexer": "ipython3",
   "version": "3.12.5"
  }
 },
 "nbformat": 4,
 "nbformat_minor": 2
}
